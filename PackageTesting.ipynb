{
 "cells": [
  {
   "cell_type": "code",
   "execution_count": 2,
   "metadata": {},
   "outputs": [],
   "source": [
    "import pandas as pd\n",
    "from tsnn.data_utils import *\n",
    "from tsnn.models import DeepRecurrent, LSTNet, DeepSense"
   ]
  },
  {
   "cell_type": "code",
   "execution_count": 3,
   "metadata": {
    "collapsed": true
   },
   "outputs": [],
   "source": [
    "# Prediction task\n",
    "input_cols = []\n",
    "target_cols = [\"client_0\", \"client_6\", \"client_11\", \"client_36\", \"client_315\"]\n",
    "pred_delay = 24\n",
    "\n",
    "# Hyperparameters\n",
    "scaling_method = \"maxabs\"\n",
    "timesteps = 168\n",
    "batch_size = 64\n",
    "sampling_step = 1\n",
    "\n",
    "# Simple cross-validation\n",
    "train_ratio = 0.6\n",
    "val_ratio = 0.2"
   ]
  },
  {
   "cell_type": "code",
   "execution_count": 4,
   "metadata": {
    "collapsed": true
   },
   "outputs": [],
   "source": [
    "# Load data\n",
    "raw_data = pd.read_csv('~/Desktop/electricity.txt', header=None)\n",
    "raw_data.columns = [\"client_\" + str(i) for i in range(len(raw_data.columns))] \n",
    "nb_features = max(len(input_cols), len(raw_data.columns))\n",
    "\n",
    "# Converting column names to their indices (necessary for LSTNet only)\n",
    "target_cols_indices = colnames_to_colindices(interest_cols=target_cols, original_df=raw_data)\n",
    "\n",
    "# Prepare data generators\n",
    "generators_dict, stats_df = prepare_data_generators(raw_data=raw_data, \n",
    "                                                    input_cols=input_cols, \n",
    "                                                    target_cols=target_cols,     # We use the column NAMES here\n",
    "                                                    scaling_method=\"maxabs\", \n",
    "                                                    samples_length=timesteps, \n",
    "                                                    pred_delay=pred_delay,\n",
    "                                                    sampling_step=sampling_step, \n",
    "                                                    batch_size=batch_size, \n",
    "                                                    train_ratio=train_ratio, \n",
    "                                                    val_ratio=val_ratio)\n",
    "\n",
    "train_gen, train_gen_steps = generators_dict[\"train\"]\n",
    "val_gen, val_gen_steps = generators_dict[\"val\"]\n",
    "test_gen, test_gen_steps = generators_dict[\"test\"]"
   ]
  },
  {
   "cell_type": "markdown",
   "metadata": {},
   "source": [
    "# LSTNet"
   ]
  },
  {
   "cell_type": "code",
   "execution_count": 5,
   "metadata": {
    "collapsed": true
   },
   "outputs": [],
   "source": [
    "# Create model\n",
    "lstnet = LSTNet(input_shape=(timesteps, nb_features), \n",
    "                interest_vars=target_cols_indices,     # We use the column INDICES here\n",
    "                cnn_filters=100, \n",
    "                cnn_kernel_height=6, \n",
    "                cnn_activation='relu', \n",
    "                cnn_use_bias=True,\n",
    "                gru_units=100, \n",
    "                gru_activation='relu', \n",
    "                gru_use_bias=True,\n",
    "                gru_skip_units=5, \n",
    "                gru_skip_step=24, \n",
    "                gru_skip_activation='relu', \n",
    "                gru_skip_use_bias=True,\n",
    "                ar_window=24, \n",
    "                ar_use_bias=True, \n",
    "                dropout=0.2)\n",
    "lstnet.compile(loss='mae', optimizer='adam')"
   ]
  },
  {
   "cell_type": "code",
   "execution_count": 5,
   "metadata": {},
   "outputs": [
    {
     "name": "stdout",
     "output_type": "stream",
     "text": [
      "Epoch 1/3\n",
      "245/245 [==============================] - 155s - loss: 0.1470 - val_loss: 0.1149\n",
      "Epoch 2/3\n",
      "245/245 [==============================] - 154s - loss: 0.1069 - val_loss: 0.1023\n",
      "Epoch 3/3\n",
      "245/245 [==============================] - 154s - loss: 0.0978 - val_loss: 0.0946\n"
     ]
    },
    {
     "data": {
      "text/plain": [
       "<keras.callbacks.History at 0x11cc94208>"
      ]
     },
     "execution_count": 5,
     "metadata": {},
     "output_type": "execute_result"
    }
   ],
   "source": [
    "# Train the model\n",
    "lstnet.fit_generator(generator=train_gen, \n",
    "                     steps_per_epoch=train_gen_steps, \n",
    "                     validation_data=val_gen, \n",
    "                     validation_steps=val_gen_steps,\n",
    "                     epochs=3, \n",
    "                     shuffle=False)"
   ]
  },
  {
   "cell_type": "code",
   "execution_count": 7,
   "metadata": {},
   "outputs": [],
   "source": [
    "# Predict on test set\n",
    "pred_test_gen = yield_inputs_only(test_gen)\n",
    "lstnet_preds = lstnet.predict_generator(generator=pred_test_gen, steps=test_gen_steps)"
   ]
  },
  {
   "cell_type": "code",
   "execution_count": null,
   "metadata": {
    "collapsed": true
   },
   "outputs": [],
   "source": []
  }
 ],
 "metadata": {
  "kernelspec": {
   "display_name": "Python (tensorflow)",
   "language": "python",
   "name": "tensorflow"
  },
  "language_info": {
   "codemirror_mode": {
    "name": "ipython",
    "version": 3
   },
   "file_extension": ".py",
   "mimetype": "text/x-python",
   "name": "python",
   "nbconvert_exporter": "python",
   "pygments_lexer": "ipython3",
   "version": "3.6.1"
  }
 },
 "nbformat": 4,
 "nbformat_minor": 1
}
